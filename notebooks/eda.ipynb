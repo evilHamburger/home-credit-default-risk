{
 "cells": [
  {
   "cell_type": "markdown",
   "metadata": {},
   "source": [
    "### 环境配置"
   ]
  },
  {
   "cell_type": "markdown",
   "metadata": {},
   "source": [
    "#### Conda + Python  \n",
    "https://docs.conda.io/en/latest/"
   ]
  },
  {
   "cell_type": "markdown",
   "metadata": {},
   "source": [
    "#### Pycharm/Vscode + Jupyter  \n",
    "https://www.jetbrains.com/pycharm/download/?section=windows  \n",
    "https://code.visualstudio.com/  \n",
    "IDE内可以直接下载Jupyter"
   ]
  },
  {
   "cell_type": "markdown",
   "metadata": {},
   "source": [
    "#### Github  \n",
    "https://gitforwindows.org/  \n",
    "注册Github账号  \n",
    "下载gitforwindows  \n",
    "本地设置账密  \n",
    "连接线上代码库  "
   ]
  },
  {
   "cell_type": "markdown",
   "metadata": {},
   "source": [
    "### 探索性数据分析 EDA  \n",
    "快速了解数据  \n",
    "得到更加干净有效的数据 便于后续的特征工程  \n",
    "以application为例，bureau需要自己完成"
   ]
  },
  {
   "cell_type": "markdown",
   "metadata": {},
   "source": [
    "#### 数据读取  \n",
    "依赖pandas  \n",
    "读取文件为DataFrame  \n",
    "生成一个带有各列解释的数据表"
   ]
  },
  {
   "cell_type": "code",
   "execution_count": 54,
   "metadata": {},
   "outputs": [
    {
     "name": "stdout",
     "output_type": "stream",
     "text": [
      "shape of application train =  (307511, 122)\n",
      "shape of application test =  (48744, 121)\n"
     ]
    }
   ],
   "source": [
    "import numpy as np \n",
    "import pandas as pd \n",
    "# import polars\n",
    "\n",
    "## 读取数据\n",
    "app_train = pd.read_csv('../data/application_train.csv', encoding = \"\", sep = ',')\n",
    "app_test = pd.read_csv('../data/application_test.csv', encoding = \"\")\n",
    "des = pd.read_csv('../data/HomeCredit_columns_description.csv', usecols = ['Row', 'Table', 'Description'])\n",
    "print('shape of application train = ', app_train.shape)\n",
    "print('shape of application test = ', app_test.shape)"
   ]
  },
  {
   "cell_type": "code",
   "execution_count": 55,
   "metadata": {},
   "outputs": [],
   "source": [
    "## 分离训练集中的预测目标\n",
    "y = app_train[['SK_ID_CURR', 'TARGET']]\n",
    "app_train = app_train.drop(labels = 'TARGET', axis = 1)"
   ]
  },
  {
   "cell_type": "code",
   "execution_count": 56,
   "metadata": {},
   "outputs": [
    {
     "data": {
      "text/html": [
       "<div>\n",
       "<style scoped>\n",
       "    .dataframe tbody tr th:only-of-type {\n",
       "        vertical-align: middle;\n",
       "    }\n",
       "\n",
       "    .dataframe tbody tr th {\n",
       "        vertical-align: top;\n",
       "    }\n",
       "\n",
       "    .dataframe thead th {\n",
       "        text-align: right;\n",
       "    }\n",
       "</style>\n",
       "<table border=\"1\" class=\"dataframe\">\n",
       "  <thead>\n",
       "    <tr style=\"text-align: right;\">\n",
       "      <th></th>\n",
       "      <th>Row</th>\n",
       "      <th>Table</th>\n",
       "      <th>Description</th>\n",
       "    </tr>\n",
       "  </thead>\n",
       "  <tbody>\n",
       "    <tr>\n",
       "      <th>0</th>\n",
       "      <td>SK_ID_CURR</td>\n",
       "      <td>application_{train|test}.csv</td>\n",
       "      <td>ID of loan in our sample</td>\n",
       "    </tr>\n",
       "    <tr>\n",
       "      <th>1</th>\n",
       "      <td>NAME_CONTRACT_TYPE</td>\n",
       "      <td>application_{train|test}.csv</td>\n",
       "      <td>Identification if loan is cash or revolving</td>\n",
       "    </tr>\n",
       "    <tr>\n",
       "      <th>2</th>\n",
       "      <td>CODE_GENDER</td>\n",
       "      <td>application_{train|test}.csv</td>\n",
       "      <td>Gender of the client</td>\n",
       "    </tr>\n",
       "    <tr>\n",
       "      <th>3</th>\n",
       "      <td>FLAG_OWN_CAR</td>\n",
       "      <td>application_{train|test}.csv</td>\n",
       "      <td>Flag if the client owns a car</td>\n",
       "    </tr>\n",
       "    <tr>\n",
       "      <th>4</th>\n",
       "      <td>FLAG_OWN_REALTY</td>\n",
       "      <td>application_{train|test}.csv</td>\n",
       "      <td>Flag if client owns a house or flat</td>\n",
       "    </tr>\n",
       "    <tr>\n",
       "      <th>...</th>\n",
       "      <td>...</td>\n",
       "      <td>...</td>\n",
       "      <td>...</td>\n",
       "    </tr>\n",
       "    <tr>\n",
       "      <th>116</th>\n",
       "      <td>AMT_REQ_CREDIT_BUREAU_DAY</td>\n",
       "      <td>application_{train|test}.csv</td>\n",
       "      <td>Number of enquiries to Credit Bureau about the...</td>\n",
       "    </tr>\n",
       "    <tr>\n",
       "      <th>117</th>\n",
       "      <td>AMT_REQ_CREDIT_BUREAU_WEEK</td>\n",
       "      <td>application_{train|test}.csv</td>\n",
       "      <td>Number of enquiries to Credit Bureau about the...</td>\n",
       "    </tr>\n",
       "    <tr>\n",
       "      <th>118</th>\n",
       "      <td>AMT_REQ_CREDIT_BUREAU_MON</td>\n",
       "      <td>application_{train|test}.csv</td>\n",
       "      <td>Number of enquiries to Credit Bureau about the...</td>\n",
       "    </tr>\n",
       "    <tr>\n",
       "      <th>119</th>\n",
       "      <td>AMT_REQ_CREDIT_BUREAU_QRT</td>\n",
       "      <td>application_{train|test}.csv</td>\n",
       "      <td>Number of enquiries to Credit Bureau about the...</td>\n",
       "    </tr>\n",
       "    <tr>\n",
       "      <th>120</th>\n",
       "      <td>AMT_REQ_CREDIT_BUREAU_YEAR</td>\n",
       "      <td>application_{train|test}.csv</td>\n",
       "      <td>Number of enquiries to Credit Bureau about the...</td>\n",
       "    </tr>\n",
       "  </tbody>\n",
       "</table>\n",
       "<p>121 rows × 3 columns</p>\n",
       "</div>"
      ],
      "text/plain": [
       "                            Row                         Table  \\\n",
       "0                    SK_ID_CURR  application_{train|test}.csv   \n",
       "1            NAME_CONTRACT_TYPE  application_{train|test}.csv   \n",
       "2                   CODE_GENDER  application_{train|test}.csv   \n",
       "3                  FLAG_OWN_CAR  application_{train|test}.csv   \n",
       "4               FLAG_OWN_REALTY  application_{train|test}.csv   \n",
       "..                          ...                           ...   \n",
       "116   AMT_REQ_CREDIT_BUREAU_DAY  application_{train|test}.csv   \n",
       "117  AMT_REQ_CREDIT_BUREAU_WEEK  application_{train|test}.csv   \n",
       "118   AMT_REQ_CREDIT_BUREAU_MON  application_{train|test}.csv   \n",
       "119   AMT_REQ_CREDIT_BUREAU_QRT  application_{train|test}.csv   \n",
       "120  AMT_REQ_CREDIT_BUREAU_YEAR  application_{train|test}.csv   \n",
       "\n",
       "                                           Description  \n",
       "0                             ID of loan in our sample  \n",
       "1          Identification if loan is cash or revolving  \n",
       "2                                 Gender of the client  \n",
       "3                        Flag if the client owns a car  \n",
       "4                  Flag if client owns a house or flat  \n",
       "..                                                 ...  \n",
       "116  Number of enquiries to Credit Bureau about the...  \n",
       "117  Number of enquiries to Credit Bureau about the...  \n",
       "118  Number of enquiries to Credit Bureau about the...  \n",
       "119  Number of enquiries to Credit Bureau about the...  \n",
       "120  Number of enquiries to Credit Bureau about the...  \n",
       "\n",
       "[121 rows x 3 columns]"
      ]
     },
     "execution_count": 56,
     "metadata": {},
     "output_type": "execute_result"
    }
   ],
   "source": [
    "## 生成特征解释表\n",
    "feature_des = pd.DataFrame(app_train.columns, columns = ['Row'])\n",
    "feature_des = pd.merge(feature_des, des, on = 'Row', how = 'left')\n",
    "feature_des = feature_des[feature_des['Table'] == 'application_{train|test}.csv'].reset_index(drop = True)\n",
    "feature_des"
   ]
  },
  {
   "cell_type": "markdown",
   "metadata": {},
   "source": [
    "#### 数据清洗    \n",
    "依赖pandas  \n",
    "各列数据类型以及训练/测试集数据缺失率  \n",
    "考虑剔除训练集和测试集缺失率差异过大的列  \n",
    "结合数据类型，考虑填充缺失值  \n",
    "缺失率高的列需要单独分析"
   ]
  },
  {
   "cell_type": "code",
   "execution_count": 64,
   "metadata": {},
   "outputs": [],
   "source": [
    "## 数据类型 & 缺失率\n",
    "feature_des['Dtype'] = list(app_train.dtypes)\n",
    "feature_des['Missing_train'] = list(app_train.isna().sum() / len(app_train))\n",
    "feature_des['Missing_test'] = list(app_test.isna().sum() / len(app_test))"
   ]
  },
  {
   "cell_type": "code",
   "execution_count": 71,
   "metadata": {},
   "outputs": [],
   "source": [
    "## 剔除训练/测试集缺失率差异过大的列\n",
    "drop_cols = {}\n",
    "feature_des['Missing_diff'] = np.abs(feature_des.Missing_train - feature_des.Missing_test)\n",
    "feature_des.sort_values(by = 'Missing_diff')\n",
    "# drop_cols['EXT_SOURCE_1'] = 'missing rate gap'"
   ]
  },
  {
   "cell_type": "code",
   "execution_count": 84,
   "metadata": {},
   "outputs": [
    {
     "name": "stdout",
     "output_type": "stream",
     "text": [
      "SK_ID_CURR\n",
      "NAME_CONTRACT_TYPE\n",
      "CODE_GENDER\n",
      "FLAG_OWN_CAR\n",
      "FLAG_OWN_REALTY\n",
      "CNT_CHILDREN\n",
      "NAME_TYPE_SUITE\n",
      "NAME_INCOME_TYPE\n",
      "NAME_EDUCATION_TYPE\n",
      "NAME_FAMILY_STATUS\n",
      "NAME_HOUSING_TYPE\n",
      "DAYS_BIRTH\n",
      "DAYS_EMPLOYED\n",
      "DAYS_ID_PUBLISH\n",
      "FLAG_MOBIL\n",
      "FLAG_EMP_PHONE\n",
      "FLAG_WORK_PHONE\n",
      "FLAG_CONT_MOBILE\n",
      "FLAG_PHONE\n",
      "FLAG_EMAIL\n",
      "OCCUPATION_TYPE\n",
      "REGION_RATING_CLIENT\n",
      "REGION_RATING_CLIENT_W_CITY\n",
      "WEEKDAY_APPR_PROCESS_START\n",
      "HOUR_APPR_PROCESS_START\n",
      "REG_REGION_NOT_LIVE_REGION\n",
      "REG_REGION_NOT_WORK_REGION\n",
      "LIVE_REGION_NOT_WORK_REGION\n",
      "REG_CITY_NOT_LIVE_CITY\n",
      "REG_CITY_NOT_WORK_CITY\n",
      "LIVE_CITY_NOT_WORK_CITY\n",
      "ORGANIZATION_TYPE\n",
      "FONDKAPREMONT_MODE\n",
      "HOUSETYPE_MODE\n",
      "WALLSMATERIAL_MODE\n",
      "EMERGENCYSTATE_MODE\n",
      "FLAG_DOCUMENT_2\n",
      "FLAG_DOCUMENT_3\n",
      "FLAG_DOCUMENT_4\n",
      "FLAG_DOCUMENT_5\n",
      "FLAG_DOCUMENT_6\n",
      "FLAG_DOCUMENT_7\n",
      "FLAG_DOCUMENT_8\n",
      "FLAG_DOCUMENT_9\n",
      "FLAG_DOCUMENT_10\n",
      "FLAG_DOCUMENT_11\n",
      "FLAG_DOCUMENT_12\n",
      "FLAG_DOCUMENT_13\n",
      "FLAG_DOCUMENT_14\n",
      "FLAG_DOCUMENT_15\n",
      "FLAG_DOCUMENT_16\n",
      "FLAG_DOCUMENT_17\n",
      "FLAG_DOCUMENT_18\n",
      "FLAG_DOCUMENT_19\n",
      "FLAG_DOCUMENT_20\n",
      "FLAG_DOCUMENT_21\n"
     ]
    }
   ],
   "source": [
    "## 数值类型填充缺失值，字符串类型暂不填充\n",
    "def missing_padding(train, test, feature, padding_type, custom_value = -999):\n",
    "    padding_value = np.nan\n",
    "    if padding_type == 'mean':\n",
    "        padding_value = train[feature].mean()\n",
    "    elif padding_type == 'median':\n",
    "        padding_value = train[feature].median()\n",
    "    elif padding_type == 'custom':\n",
    "        padding_value = custom_value\n",
    "    train[feature] = train[feature].fillna(padding_value)\n",
    "    test[feature] = test[feature].fillna(padding_value)\n",
    "\n",
    "for index, row in feature_des.iterrows():\n",
    "    if row.Dtype in ('int', 'float'):\n",
    "        missing_padding(app_train, app_test, row.Row, 'mean')\n",
    "    else:\n",
    "        pass"
   ]
  },
  {
   "cell_type": "markdown",
   "metadata": {},
   "source": [
    "#### 数据分布\n",
    "依赖pandas, numpy\n",
    "生成一个"
   ]
  },
  {
   "cell_type": "code",
   "execution_count": 76,
   "metadata": {},
   "outputs": [
    {
     "data": {
      "text/plain": [
       "0"
      ]
     },
     "execution_count": 76,
     "metadata": {},
     "output_type": "execute_result"
    }
   ],
   "source": []
  },
  {
   "cell_type": "markdown",
   "metadata": {},
   "source": [
    "#### 可视化"
   ]
  },
  {
   "cell_type": "markdown",
   "metadata": {},
   "source": []
  }
 ],
 "metadata": {
  "kernelspec": {
   "display_name": "base",
   "language": "python",
   "name": "python3"
  },
  "language_info": {
   "codemirror_mode": {
    "name": "ipython",
    "version": 3
   },
   "file_extension": ".py",
   "mimetype": "text/x-python",
   "name": "python",
   "nbconvert_exporter": "python",
   "pygments_lexer": "ipython3",
   "version": "3.12.1"
  }
 },
 "nbformat": 4,
 "nbformat_minor": 2
}
